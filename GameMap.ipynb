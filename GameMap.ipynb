{
 "cells": [
  {
   "cell_type": "markdown",
   "id": "c21f6b86",
   "metadata": {},
   "source": [
    "# "
   ]
  },
  {
   "cell_type": "code",
   "execution_count": 1,
   "id": "62736d19",
   "metadata": {
    "ExecuteTime": {
     "end_time": "2021-07-12T11:37:08.674537Z",
     "start_time": "2021-07-12T11:37:08.646176Z"
    }
   },
   "outputs": [],
   "source": [
    "import ipy_importer"
   ]
  },
  {
   "cell_type": "code",
   "execution_count": 2,
   "id": "1d574b57",
   "metadata": {
    "ExecuteTime": {
     "end_time": "2021-07-12T11:37:16.808865Z",
     "start_time": "2021-07-12T11:37:16.802241Z"
    }
   },
   "outputs": [],
   "source": [
    "from random import randint\n",
    "from enum import Enum"
   ]
  },
  {
   "cell_type": "code",
   "execution_count": null,
   "id": "23dc1adb",
   "metadata": {},
   "outputs": [],
   "source": [
    "\n",
    "class MAP_ENTRY_TYPE(Enum):\n",
    "\tMAP_EMPTY = 0,\n",
    "\tMAP_BLOCK = 1,\n",
    "\tMAP_TARGET = 2,\n",
    "\tMAP_PATH = 3,\n",
    "\n",
    "class WALL_DIRECTION(Enum):\n",
    "\tWALL_LEFT = 0,\n",
    "\tWALL_UP = 1,\n",
    "\tWALL_RIGHT = 2,\n",
    "\tWALL_DOWN = 3,\n",
    "\t\n",
    "map_entry_types = {0:MAP_ENTRY_TYPE.MAP_EMPTY, 1:MAP_ENTRY_TYPE.MAP_BLOCK, 2:MAP_ENTRY_TYPE.MAP_TARGET, 3:MAP_ENTRY_TYPE.MAP_PATH}\n",
    "\n",
    "class Map():\n",
    "\tdef __init__(self, width, height):\n",
    "\t\tself.width = width\n",
    "\t\tself.height = height\n",
    "\t\tself.map = [[0 for x in range(self.width)] for y in range(self.height)]\n",
    "\t\n",
    "\tdef generatePos(self, rangeX, rangeY):\n",
    "\t\tx, y = (randint(rangeX[0], rangeX[1]), randint(rangeY[0], rangeY[1]))\n",
    "\t\twhile self.map[y][x] == 1:\n",
    "\t\t\tx, y = (randint(rangeX[0], rangeX[1]), randint(rangeY[0], rangeY[1]))\n",
    "\t\treturn (x , y)\n",
    "\t\n",
    "\tdef resetMap(self, value):\n",
    "\t\tfor y in range(self.height):\n",
    "\t\t\tfor x in range(self.width):\n",
    "\t\t\t\tself.setMap(x, y, value)\n",
    "\t\n",
    "\tdef setMap(self, x, y, value):\n",
    "\t\tif value == MAP_ENTRY_TYPE.MAP_EMPTY:\n",
    "\t\t\tself.map[y][x] = 0\n",
    "\t\telif value == MAP_ENTRY_TYPE.MAP_BLOCK:\n",
    "\t\t\tself.map[y][x] = 1\n",
    "\t\telif value == MAP_ENTRY_TYPE.MAP_TARGET:\n",
    "\t\t\tself.map[y][x] = 2\n",
    "\t\telse:\n",
    "\t\t\tself.map[y][x] = 3\n",
    "\t\n",
    "\tdef isVisited(self, x, y):\n",
    "\t\treturn self.map[y][x] != 1\n",
    "\n",
    "\tdef isMovable(self, x, y):\n",
    "\t\treturn self.map[y][x] != 1\n",
    "\t\n",
    "\tdef isValid(self, x, y):\n",
    "\t\tif x < 0 or x >= self.width or y < 0 or y >= self.height:\n",
    "\t\t\treturn False\n",
    "\t\treturn True\n",
    "\t\n",
    "\tdef getType(self, x, y):\n",
    "\t\treturn map_entry_types[self.map[y][x]]\n",
    "\n",
    "\tdef showMap(self):\n",
    "\t\tfor row in self.map:\n",
    "\t\t\ts = ''\n",
    "\t\t\tfor entry in row:\n",
    "\t\t\t\tif entry == 0:\n",
    "\t\t\t\t\ts += ' 0'\n",
    "\t\t\t\telif entry == 1:\n",
    "\t\t\t\t\ts += ' #'\n",
    "\t\t\t\telse:\n",
    "\t\t\t\t\ts += ' X'\n",
    "\t\t\tprint(s)"
   ]
  }
 ],
 "metadata": {
  "kernelspec": {
   "display_name": "Python 3.7.10 64-bit ('object_tracking': conda)",
   "language": "python",
   "name": "python371064bitobjecttrackingconda66c6f2efc4d740808a4620e21504b8f3"
  },
  "language_info": {
   "codemirror_mode": {
    "name": "ipython",
    "version": 3
   },
   "file_extension": ".py",
   "mimetype": "text/x-python",
   "name": "python",
   "nbconvert_exporter": "python",
   "pygments_lexer": "ipython3",
   "version": "3.7.10"
  },
  "toc": {
   "base_numbering": 1,
   "nav_menu": {},
   "number_sections": true,
   "sideBar": true,
   "skip_h1_title": false,
   "title_cell": "Table of Contents",
   "title_sidebar": "Contents",
   "toc_cell": false,
   "toc_position": {},
   "toc_section_display": true,
   "toc_window_display": false
  },
  "varInspector": {
   "cols": {
    "lenName": 16,
    "lenType": 16,
    "lenVar": 40
   },
   "kernels_config": {
    "python": {
     "delete_cmd_postfix": "",
     "delete_cmd_prefix": "del ",
     "library": "var_list.py",
     "varRefreshCmd": "print(var_dic_list())"
    },
    "r": {
     "delete_cmd_postfix": ") ",
     "delete_cmd_prefix": "rm(",
     "library": "var_list.r",
     "varRefreshCmd": "cat(var_dic_list()) "
    }
   },
   "types_to_exclude": [
    "module",
    "function",
    "builtin_function_or_method",
    "instance",
    "_Feature"
   ],
   "window_display": false
  }
 },
 "nbformat": 4,
 "nbformat_minor": 5
}
