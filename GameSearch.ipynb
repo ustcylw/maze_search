{
 "cells": [
  {
   "cell_type": "markdown",
   "id": "1a2be13b",
   "metadata": {},
   "source": [
    "# "
   ]
  },
  {
   "cell_type": "code",
   "execution_count": 1,
   "id": "6240b6ef",
   "metadata": {
    "ExecuteTime": {
     "end_time": "2021-07-12T11:49:00.249320Z",
     "start_time": "2021-07-12T11:49:00.214836Z"
    }
   },
   "outputs": [],
   "source": [
    "import ipy_importer"
   ]
  },
  {
   "cell_type": "code",
   "execution_count": 2,
   "id": "ead7618e",
   "metadata": {
    "ExecuteTime": {
     "end_time": "2021-07-12T11:49:00.480093Z",
     "start_time": "2021-07-12T11:49:00.466789Z"
    }
   },
   "outputs": [
    {
     "name": "stdout",
     "output_type": "stream",
     "text": [
      "pygame 2.0.1 (SDL 2.0.14, Python 3.7.10)\n",
      "Hello from the pygame community. https://www.pygame.org/contribute.html\n"
     ]
    }
   ],
   "source": [
    "import pygame\n",
    "from pygame.locals import *\n",
    "from sys import exit\n",
    "from random import randint\n",
    "from GameMap import *\n",
    "from MazeGenerator import *\n",
    "from AStarSearch import *"
   ]
  },
  {
   "cell_type": "code",
   "execution_count": 3,
   "id": "d2312370",
   "metadata": {
    "ExecuteTime": {
     "end_time": "2021-07-12T11:49:00.792740Z",
     "start_time": "2021-07-12T11:49:00.779584Z"
    }
   },
   "outputs": [],
   "source": [
    "\n",
    "REC_SIZE = 10\n",
    "REC_WIDTH = 31  # 51 # must be odd number\n",
    "REC_HEIGHT = 31  # 51 # must be odd number\n",
    "BUTTON_HEIGHT = 30\n",
    "BUTTON_WIDTH = 120\n",
    "SCREEN_WIDTH = REC_WIDTH * REC_SIZE\n",
    "SCREEN_HEIGHT = REC_HEIGHT * REC_SIZE + BUTTON_HEIGHT\n",
    "\n",
    "class Button():\n",
    "\tdef __init__(self, screen, type, x, y):\n",
    "\t\tself.screen = screen\n",
    "\t\tself.width = BUTTON_WIDTH\n",
    "\t\tself.height = BUTTON_HEIGHT\n",
    "\t\tself.button_color = (128,128,128)\n",
    "\t\tself.text_color = [(0,255,0), (255,0,0)]\n",
    "\t\tself.font = pygame.font.SysFont(None, BUTTON_HEIGHT*2//3)\n",
    "\t\t\n",
    "\t\tself.rect = pygame.Rect(0, 0, self.width, self.height)\n",
    "\t\tself.rect.topleft = (x, y)\n",
    "\t\tself.type = type\n",
    "\t\tself.init_msg()\n",
    "\t\t\n",
    "\tdef init_msg(self):\n",
    "\t\tself.msg_image = self.font.render(generator_types[self.type], True, self.text_color[0], self.button_color)\n",
    "\t\tself.msg_image_rect = self.msg_image.get_rect()\n",
    "\t\tself.msg_image_rect.center = self.rect.center\n",
    "\t\t\n",
    "\tdef draw(self):\n",
    "\t\tself.screen.fill(self.button_color, self.rect)\n",
    "\t\tself.screen.blit(self.msg_image, self.msg_image_rect)\n",
    "\t\n",
    "\tdef click(self, game):\n",
    "\t\tgame.maze_type = self.type\n",
    "\t\tself.msg_image = self.font.render(generator_types[self.type], True, self.text_color[1], self.button_color)\n",
    "\t\n",
    "\tdef unclick(self):\n",
    "\t\tself.msg_image = self.font.render(generator_types[self.type], True, self.text_color[0], self.button_color)\n",
    "\n",
    "class Game():\n",
    "\tdef __init__(self):\n",
    "\t\tpygame.init()\n",
    "\t\tself.screen = pygame.display.set_mode([SCREEN_WIDTH, SCREEN_HEIGHT])\n",
    "\t\tself.clock = pygame.time.Clock()\n",
    "\t\tself.map = Map(REC_WIDTH, REC_HEIGHT)\n",
    "\t\tself.mode = 0\n",
    "\t\tself.maze_type = MAZE_GENERATOR_TYPE.RANDOM_PRIM\n",
    "\t\tself.buttons = []\n",
    "\t\tself.buttons.append(Button(self.screen, MAZE_GENERATOR_TYPE.RECURSIVE_BACKTRACKER, 0, 0))\n",
    "\t\tself.buttons.append(Button(self.screen, MAZE_GENERATOR_TYPE.RANDOM_PRIM, BUTTON_WIDTH + 10, 0))\n",
    "\t\tself.buttons.append(Button(self.screen, MAZE_GENERATOR_TYPE.RECURSIVE_DIVISION, (BUTTON_WIDTH + 10) * 2, 0))\n",
    "\t\tself.buttons.append(Button(self.screen, MAZE_GENERATOR_TYPE.UNION_FIND_SET, (BUTTON_WIDTH + 10) * 3, 0))\n",
    "\t\tself.buttons[0].click(self)\n",
    "\n",
    "\tdef play(self):\n",
    "\t\tself.clock.tick(30)\n",
    "\t\t\n",
    "\t\tpygame.draw.rect(self.screen, (255, 255, 255), pygame.Rect(0, 0, SCREEN_WIDTH, BUTTON_HEIGHT))\n",
    "\t\tfor button in self.buttons:\n",
    "\t\t\tbutton.draw()\n",
    "\n",
    "\t\tfor y in range(self.map.height):\n",
    "\t\t\tfor x in range(self.map.width):\n",
    "\t\t\t\ttype = self.map.getType(x, y)\n",
    "\t\t\t\tif type == MAP_ENTRY_TYPE.MAP_EMPTY:\n",
    "\t\t\t\t\tcolor = (255, 255, 255)\n",
    "\t\t\t\telif type == MAP_ENTRY_TYPE.MAP_BLOCK:\n",
    "\t\t\t\t\tcolor = (0, 0, 0)\n",
    "\t\t\t\telif type == MAP_ENTRY_TYPE.MAP_TARGET:\n",
    "\t\t\t\t\tcolor = (255, 0, 0)\n",
    "\t\t\t\telse:\n",
    "\t\t\t\t\tcolor = (0, 255, 0)\n",
    "\t\t\t\tpygame.draw.rect(self.screen, color, pygame.Rect(REC_SIZE*x, REC_SIZE*y+BUTTON_HEIGHT, REC_SIZE, REC_SIZE))\n",
    "\t\t\n",
    "\tdef generateMaze(self):\n",
    "\t\tif self.mode >= 4:\n",
    "\t\t\tself.mode = 0\n",
    "\t\tif self.mode == 0:\n",
    "\t\t\tgenerateMap(self.map, self.maze_type)\n",
    "\t\telif self.mode == 1:\n",
    "\t\t\tself.source = self.map.generatePos((1,1),(1, self.map.height-2))\n",
    "\t\t\tself.dest = self.map.generatePos((self.map.width-2, self.map.width-2), (1, self.map.height-2))\n",
    "\t\t\tself.map.setMap(self.source[0], self.source[1], MAP_ENTRY_TYPE.MAP_TARGET)\n",
    "\t\t\tself.map.setMap(self.dest[0], self.dest[1], MAP_ENTRY_TYPE.MAP_TARGET)\n",
    "\t\telif self.mode == 2:\n",
    "\t\t\tAStarSearch(self.map, self.source, self.dest)\n",
    "\t\t\tself.map.setMap(self.source[0], self.source[1], MAP_ENTRY_TYPE.MAP_TARGET)\n",
    "\t\t\tself.map.setMap(self.dest[0], self.dest[1], MAP_ENTRY_TYPE.MAP_TARGET)\n",
    "\t\telse:\n",
    "\t\t\tself.map.resetMap(MAP_ENTRY_TYPE.MAP_EMPTY)\n",
    "\t\tself.mode += 1\n",
    "\n",
    "def check_buttons(game, mouse_x, mouse_y):\n",
    "\tfor button in game.buttons:\n",
    "\t\tif button.rect.collidepoint(mouse_x, mouse_y):\n",
    "\t\t\tbutton.click(game)\n",
    "\t\t\tfor tmp in game.buttons:\n",
    "\t\t\t\tif tmp != button:\n",
    "\t\t\t\t\ttmp.unclick()\n",
    "\t\t\tbreak"
   ]
  },
  {
   "cell_type": "code",
   "execution_count": 4,
   "id": "3d3c78ad",
   "metadata": {
    "ExecuteTime": {
     "end_time": "2021-07-12T11:49:12.555680Z",
     "start_time": "2021-07-12T11:49:01.485859Z"
    }
   },
   "outputs": [
    {
     "name": "stdout",
     "output_type": "stream",
     "text": [
      "start(1, 14)\n",
      "start(4, 1)\n"
     ]
    },
    {
     "ename": "SystemExit",
     "evalue": "",
     "output_type": "error",
     "traceback": [
      "An exception has occurred, use %tb to see the full traceback.\n",
      "\u001b[0;31mSystemExit\u001b[0m\n"
     ]
    },
    {
     "name": "stderr",
     "output_type": "stream",
     "text": [
      "/home/intellif/anaconda3/envs/object_tracking/lib/python3.7/site-packages/IPython/core/interactiveshell.py:3445: UserWarning: To exit: use 'exit', 'quit', or Ctrl-D.\n",
      "  warn(\"To exit: use 'exit', 'quit', or Ctrl-D.\", stacklevel=1)\n"
     ]
    }
   ],
   "source": [
    "\n",
    "game = Game()\n",
    "while True:\n",
    "\tgame.play()\n",
    "\tpygame.display.update()\n",
    "\t\n",
    "\tfor event in pygame.event.get():\n",
    "\t\tif event.type == pygame.QUIT:\n",
    "\t\t\tpygame.quit()\n",
    "\t\t\texit()\n",
    "\t\tif event.type == pygame.KEYDOWN:\n",
    "\t\t\tgame.generateMaze()\n",
    "\t\t\tbreak\n",
    "\t\telif event.type == pygame.MOUSEBUTTONDOWN:\n",
    "\t\t\tmouse_x, mouse_y = pygame.mouse.get_pos()\n",
    "\t\t\tcheck_buttons(game, mouse_x, mouse_y)\n",
    "\t\t\t"
   ]
  },
  {
   "cell_type": "code",
   "execution_count": null,
   "id": "029682bc",
   "metadata": {},
   "outputs": [],
   "source": []
  },
  {
   "cell_type": "code",
   "execution_count": null,
   "id": "73589b40",
   "metadata": {},
   "outputs": [],
   "source": []
  }
 ],
 "metadata": {
  "kernelspec": {
   "display_name": "Python 3.7.10 64-bit ('object_tracking': conda)",
   "language": "python",
   "name": "python371064bitobjecttrackingconda66c6f2efc4d740808a4620e21504b8f3"
  },
  "language_info": {
   "codemirror_mode": {
    "name": "ipython",
    "version": 3
   },
   "file_extension": ".py",
   "mimetype": "text/x-python",
   "name": "python",
   "nbconvert_exporter": "python",
   "pygments_lexer": "ipython3",
   "version": "3.7.10"
  },
  "toc": {
   "base_numbering": 1,
   "nav_menu": {},
   "number_sections": true,
   "sideBar": true,
   "skip_h1_title": false,
   "title_cell": "Table of Contents",
   "title_sidebar": "Contents",
   "toc_cell": false,
   "toc_position": {},
   "toc_section_display": true,
   "toc_window_display": false
  },
  "varInspector": {
   "cols": {
    "lenName": 16,
    "lenType": 16,
    "lenVar": 40
   },
   "kernels_config": {
    "python": {
     "delete_cmd_postfix": "",
     "delete_cmd_prefix": "del ",
     "library": "var_list.py",
     "varRefreshCmd": "print(var_dic_list())"
    },
    "r": {
     "delete_cmd_postfix": ") ",
     "delete_cmd_prefix": "rm(",
     "library": "var_list.r",
     "varRefreshCmd": "cat(var_dic_list()) "
    }
   },
   "types_to_exclude": [
    "module",
    "function",
    "builtin_function_or_method",
    "instance",
    "_Feature"
   ],
   "window_display": false
  }
 },
 "nbformat": 4,
 "nbformat_minor": 5
}
