{
 "cells": [
  {
   "cell_type": "markdown",
   "id": "b1b9d0fd",
   "metadata": {},
   "source": [
    "# "
   ]
  },
  {
   "cell_type": "code",
   "execution_count": 1,
   "id": "94f020d8",
   "metadata": {
    "ExecuteTime": {
     "end_time": "2021-07-12T11:57:36.055960Z",
     "start_time": "2021-07-12T11:57:36.054067Z"
    }
   },
   "outputs": [],
   "source": [
    "import os, sys\n",
    "import numpy as np"
   ]
  },
  {
   "cell_type": "code",
   "execution_count": 3,
   "id": "d7573245",
   "metadata": {
    "ExecuteTime": {
     "end_time": "2021-07-12T11:57:58.716008Z",
     "start_time": "2021-07-12T11:57:58.708325Z"
    }
   },
   "outputs": [
    {
     "name": "stdout",
     "output_type": "stream",
     "text": [
      "[0, 1, 8, 4, 13, 17]\n"
     ]
    }
   ],
   "source": [
    "def startwith(start: int, mgraph: list) -> list:\n",
    "    passed = [start]\n",
    "    nopass = [x for x in range(len(mgraph)) if x != start]\n",
    "    dis = mgraph[start]\n",
    "    \n",
    "    while len(nopass):\n",
    "        idx = nopass[0]\n",
    "        for i in nopass:\n",
    "            if dis[i] < dis[idx]: idx = i\n",
    "\n",
    "        nopass.remove(idx)\n",
    "        passed.append(idx)\n",
    "\n",
    "        for i in nopass:\n",
    "            if dis[idx] + mgraph[idx][i] < dis[i]: dis[i] = dis[idx] + mgraph[idx][i]\n",
    "    return dis\n",
    "\n",
    "\n",
    "if __name__ == \"__main__\":\n",
    "    inf = 10086\n",
    "    mgraph = [[0, 1, 12, inf, inf, inf],\n",
    "              [inf, 0, 9, 3, inf, inf],\n",
    "              [inf, inf, 0, inf, 5, inf],\n",
    "              [inf, inf, 4, 0, 13, 15],\n",
    "              [inf, inf, inf ,inf, 0, 4],\n",
    "              [inf, inf, inf, inf ,inf, 0]]\n",
    "\n",
    "    dis = startwith(0, mgraph)\n",
    "    print(dis)"
   ]
  },
  {
   "cell_type": "code",
   "execution_count": null,
   "id": "3e3fabc6",
   "metadata": {},
   "outputs": [],
   "source": []
  },
  {
   "cell_type": "code",
   "execution_count": null,
   "id": "2495b239",
   "metadata": {},
   "outputs": [],
   "source": []
  },
  {
   "cell_type": "code",
   "execution_count": null,
   "id": "60927ddc",
   "metadata": {},
   "outputs": [],
   "source": []
  },
  {
   "cell_type": "code",
   "execution_count": 13,
   "id": "71ea8eae",
   "metadata": {
    "ExecuteTime": {
     "end_time": "2021-07-12T12:07:04.958043Z",
     "start_time": "2021-07-12T12:07:04.943725Z"
    }
   },
   "outputs": [],
   "source": [
    "# -*- coding: utf-8 -*-  \n",
    "## 表示无穷大  \n",
    "INF = 9999  \n",
    "  \n",
    "class Dijkstra_Path():  \n",
    "    def __init__(self, node_map):  \n",
    "        self.node_map = node_map  \n",
    "        self.node_length = len(node_map)  \n",
    "        self.used_node_list = []  \n",
    "        self.collected_node_dict = {}  \n",
    "      \n",
    "    def __call__(self, from_node, to_node):  \n",
    "        self.from_node = from_node  \n",
    "        self.to_node = to_node  \n",
    "        self._init_dijkstra()  \n",
    "        return self._format_path()  \n",
    "  \n",
    "    def _init_dijkstra(self):  \n",
    "        ## Add from_node to used_node_list  \n",
    "        self.used_node_list.append(self.from_node)  \n",
    "        for index1 in range(self.node_length):  \n",
    "            self.collected_node_dict[index1] = [INF, -1]  \n",
    "    \n",
    "        self.collected_node_dict[self.from_node] = [0, -1] # from_node don't have pre_node  \n",
    "        for index1, weight_val in enumerate(self.node_map[self.from_node]):  \n",
    "            if weight_val:  \n",
    "                self.collected_node_dict[index1] = [weight_val, self.from_node] # [weight_val, pre_node]  \n",
    "          \n",
    "        self._foreach_dijkstra()  \n",
    "      \n",
    "    def _foreach_dijkstra(self):  \n",
    "        while(len(self.used_node_list) < self.node_length - 1):  \n",
    "            min_key = -1  \n",
    "            min_val = INF  \n",
    "            for key, val in self.collected_node_dict.items(): # 遍历已有权值节点  \n",
    "                if val[0] < min_val and key not in self.used_node_list:  \n",
    "                    min_key = key  \n",
    "                    min_val = val[0]  \n",
    "  \n",
    "            ## 把最小的值加入到used_node_list          \n",
    "            if min_key != -1:  \n",
    "                self.used_node_list.append(min_key)  \n",
    "  \n",
    "            for index1, weight_val in enumerate(self.node_map[min_key]):  \n",
    "                ## 对刚加入到used_node_list中的节点的相邻点进行遍历比较  \n",
    "                if weight_val > 0 and self.collected_node_dict[index1][0] > weight_val + min_val:  \n",
    "                    self.collected_node_dict[index1][0] = weight_val + min_val # update weight_val  \n",
    "                    self.collected_node_dict[index1][1] = min_key  \n",
    "  \n",
    "  \n",
    "    def _format_path(self):  \n",
    "        node_list = []  \n",
    "        temp_node = self.to_node  \n",
    "        node_list.append((temp_node, self.collected_node_dict[temp_node][0]))  \n",
    "        while self.collected_node_dict[temp_node][1] != -1:  \n",
    "          temp_node = self.collected_node_dict[temp_node][1]  \n",
    "          node_list.append((temp_node, self.collected_node_dict[temp_node][0]))  \n",
    "        node_list.reverse()  \n",
    "        return node_list  \n",
    "  \n",
    "def set_node_map(node_map, node, node_list):  \n",
    "    for x, y, val in node_list:  \n",
    "        node_map[node.index(x)][node.index(y)] = node_map[node.index(y)][node.index(x)] = val  "
   ]
  },
  {
   "cell_type": "code",
   "execution_count": 14,
   "id": "a587ac37",
   "metadata": {
    "ExecuteTime": {
     "end_time": "2021-07-12T12:07:09.345987Z",
     "start_time": "2021-07-12T12:07:09.341134Z"
    }
   },
   "outputs": [
    {
     "name": "stdout",
     "output_type": "stream",
     "text": [
      "node_map: [[0, 0, 0, 0, 0, 0, 0], [0, 0, 0, 0, 0, 0, 0], [0, 0, 0, 0, 0, 0, 0], [0, 0, 0, 0, 0, 0, 0], [0, 0, 0, 0, 0, 0, 0], [0, 0, 0, 0, 0, 0, 0], [0, 0, 0, 0, 0, 0, 0]]\n",
      "[(0, 0), (5, 9), (6, 12), (2, 22), (4, 23)]\n"
     ]
    }
   ],
   "source": [
    "if __name__ == \"__main__\":  \n",
    "    node = ['A', 'B', 'C', 'D', 'E', 'F', 'G']  \n",
    "    node_list = [('A', 'F', 9), ('A', 'B', 10), ('A', 'G', 15), ('B', 'F', 2),  \n",
    "                 ('G', 'F', 3), ('G', 'E', 12), ('G', 'C', 10), ('C', 'E', 1),  \n",
    "                 ('E', 'D', 7)]  \n",
    "    \n",
    "    ## init node_map to 0  \n",
    "    node_map = [[0 for val in range(len(node))] for val in range(len(node))]  \n",
    "    print(f'node_map: {node_map}')\n",
    "    ## set node_map  \n",
    "    set_node_map(node_map, node, node_list)  \n",
    "    \n",
    "    ## select one node to obj node, e.g. A --> D(node[0] --> node[3])  \n",
    "    from_node = node.index('A')  \n",
    "    to_node = node.index('E')  \n",
    "    dijkstrapath = Dijkstra_Path(node_map)  \n",
    "    path = dijkstrapath(from_node, to_node)  \n",
    "    print(path) "
   ]
  },
  {
   "cell_type": "code",
   "execution_count": null,
   "id": "9534ffe3",
   "metadata": {},
   "outputs": [],
   "source": []
  }
 ],
 "metadata": {
  "kernelspec": {
   "display_name": "Python 3.7.10 64-bit ('object_tracking': conda)",
   "language": "python",
   "name": "python371064bitobjecttrackingconda66c6f2efc4d740808a4620e21504b8f3"
  },
  "toc": {
   "base_numbering": 1,
   "nav_menu": {},
   "number_sections": true,
   "sideBar": true,
   "skip_h1_title": false,
   "title_cell": "Table of Contents",
   "title_sidebar": "Contents",
   "toc_cell": false,
   "toc_position": {},
   "toc_section_display": true,
   "toc_window_display": false
  },
  "varInspector": {
   "cols": {
    "lenName": 16,
    "lenType": 16,
    "lenVar": 40
   },
   "kernels_config": {
    "python": {
     "delete_cmd_postfix": "",
     "delete_cmd_prefix": "del ",
     "library": "var_list.py",
     "varRefreshCmd": "print(var_dic_list())"
    },
    "r": {
     "delete_cmd_postfix": ") ",
     "delete_cmd_prefix": "rm(",
     "library": "var_list.r",
     "varRefreshCmd": "cat(var_dic_list()) "
    }
   },
   "types_to_exclude": [
    "module",
    "function",
    "builtin_function_or_method",
    "instance",
    "_Feature"
   ],
   "window_display": false
  }
 },
 "nbformat": 4,
 "nbformat_minor": 5
}
