{
 "cells": [
  {
   "cell_type": "markdown",
   "id": "b1b9d0fd",
   "metadata": {},
   "source": [
    "# "
   ]
  },
  {
   "cell_type": "code",
   "execution_count": 1,
   "id": "94f020d8",
   "metadata": {
    "ExecuteTime": {
     "end_time": "2021-07-13T05:31:54.563759Z",
     "start_time": "2021-07-13T05:31:54.558535Z"
    }
   },
   "outputs": [],
   "source": [
    "import os, sys\n",
    "import numpy as np"
   ]
  },
  {
   "cell_type": "code",
   "execution_count": 2,
   "id": "d7573245",
   "metadata": {
    "ExecuteTime": {
     "end_time": "2021-07-13T05:31:54.987059Z",
     "start_time": "2021-07-13T05:31:54.970035Z"
    }
   },
   "outputs": [
    {
     "name": "stdout",
     "output_type": "stream",
     "text": [
      "[0, 1, 8, 4, 13, 17]\n"
     ]
    }
   ],
   "source": [
    "def startwith(start: int, mgraph: list) -> list:\n",
    "    passed = [start]\n",
    "    nopass = [x for x in range(len(mgraph)) if x != start]\n",
    "    dis = mgraph[start]\n",
    "    \n",
    "    while len(nopass):\n",
    "        idx = nopass[0]\n",
    "        for i in nopass:\n",
    "            if dis[i] < dis[idx]: idx = i\n",
    "\n",
    "        nopass.remove(idx)\n",
    "        passed.append(idx)\n",
    "\n",
    "        for i in nopass:\n",
    "            if dis[idx] + mgraph[idx][i] < dis[i]: dis[i] = dis[idx] + mgraph[idx][i]\n",
    "    return dis\n",
    "\n",
    "\n",
    "if __name__ == \"__main__\":\n",
    "    inf = 10086\n",
    "    mgraph = [[0, 1, 12, inf, inf, inf],\n",
    "              [inf, 0, 9, 3, inf, inf],\n",
    "              [inf, inf, 0, inf, 5, inf],\n",
    "              [inf, inf, 4, 0, 13, 15],\n",
    "              [inf, inf, inf ,inf, 0, 4],\n",
    "              [inf, inf, inf, inf ,inf, 0]]\n",
    "\n",
    "    dis = startwith(0, mgraph)\n",
    "    print(dis)"
   ]
  },
  {
   "cell_type": "code",
   "execution_count": null,
   "id": "3e3fabc6",
   "metadata": {},
   "outputs": [],
   "source": []
  },
  {
   "cell_type": "code",
   "execution_count": null,
   "id": "2495b239",
   "metadata": {},
   "outputs": [],
   "source": []
  },
  {
   "cell_type": "code",
   "execution_count": null,
   "id": "60927ddc",
   "metadata": {},
   "outputs": [],
   "source": []
  },
  {
   "cell_type": "code",
   "execution_count": 11,
   "id": "71ea8eae",
   "metadata": {
    "ExecuteTime": {
     "end_time": "2021-07-13T05:45:33.536852Z",
     "start_time": "2021-07-13T05:45:33.510672Z"
    }
   },
   "outputs": [],
   "source": [
    "# -*- coding: utf-8 -*-  \n",
    "## 表示无穷大  \n",
    "INF = 9999  \n",
    "  \n",
    "class Dijkstra_Path():  \n",
    "    def __init__(self, node_map):  \n",
    "        self.node_map = node_map  \n",
    "        self.node_length = len(node_map)  \n",
    "        self.used_node_list = []  \n",
    "        self.collected_node_dict = {}  \n",
    "        print(f'[Dijkstra_Path][__init__]  node_map: {node_map}')\n",
    "      \n",
    "    def __call__(self, from_node, to_node):  \n",
    "        self.from_node = from_node  \n",
    "        self.to_node = to_node  \n",
    "        self._init_dijkstra()  \n",
    "        return self._format_path()  \n",
    "  \n",
    "    def _init_dijkstra(self):  \n",
    "        ## Add from_node to used_node_list  \n",
    "        self.used_node_list.append(self.from_node)  \n",
    "        for index1 in range(self.node_length):  \n",
    "            self.collected_node_dict[index1] = [INF, -1]  \n",
    "        print(f'[Dijkstra_Path][_init_dijkstra]  used_node_list: {self.used_node_list}')\n",
    "        print(f'[Dijkstra_Path][_init_dijkstra]  collected_node_dict: {self.collected_node_dict}')\n",
    "    \n",
    "        self.collected_node_dict[self.from_node] = [0, -1] # from_node don't have pre_node  \n",
    "        for index1, weight_val in enumerate(self.node_map[self.from_node]):  \n",
    "            if weight_val:  \n",
    "                self.collected_node_dict[index1] = [weight_val, self.from_node] # [weight_val, pre_node]  \n",
    "        print(f'[Dijkstra_Path][_init_dijkstra]  collected_node_dict: {self.collected_node_dict}')\n",
    "          \n",
    "        self._foreach_dijkstra()  \n",
    "      \n",
    "    def _foreach_dijkstra(self):  \n",
    "        while(len(self.used_node_list) < self.node_length - 1):  \n",
    "            min_key = -1  \n",
    "            min_val = INF  \n",
    "            for key, val in self.collected_node_dict.items(): # 遍历已有权值节点  \n",
    "                if val[0] < min_val and key not in self.used_node_list:  \n",
    "                    min_key = key  \n",
    "                    min_val = val[0]  \n",
    "  \n",
    "            ## 把最小的值加入到used_node_list          \n",
    "            if min_key != -1:  \n",
    "                self.used_node_list.append(min_key)  \n",
    "  \n",
    "            for index1, weight_val in enumerate(self.node_map[min_key]):  \n",
    "                ## 对刚加入到used_node_list中的节点的相邻点进行遍历比较  \n",
    "                if weight_val > 0 and self.collected_node_dict[index1][0] > weight_val + min_val:  \n",
    "                    self.collected_node_dict[index1][0] = weight_val + min_val # update weight_val  \n",
    "                    self.collected_node_dict[index1][1] = min_key  \n",
    "  \n",
    "  \n",
    "    def _format_path(self):  \n",
    "        node_list = []  \n",
    "        temp_node = self.to_node  \n",
    "        node_list.append((temp_node, self.collected_node_dict[temp_node][0]))  \n",
    "        while self.collected_node_dict[temp_node][1] != -1:  \n",
    "          temp_node = self.collected_node_dict[temp_node][1]  \n",
    "          node_list.append((temp_node, self.collected_node_dict[temp_node][0]))  \n",
    "        node_list.reverse()  \n",
    "        return node_list  \n",
    "  \n",
    "def set_node_map(node_map, node, node_list):  \n",
    "    for x, y, val in node_list:  \n",
    "        node_map[node.index(x)][node.index(y)] = node_map[node.index(y)][node.index(x)] = val  "
   ]
  },
  {
   "cell_type": "code",
   "execution_count": 32,
   "id": "a587ac37",
   "metadata": {
    "ExecuteTime": {
     "end_time": "2021-07-13T06:37:53.995028Z",
     "start_time": "2021-07-13T06:37:53.973201Z"
    }
   },
   "outputs": [
    {
     "name": "stdout",
     "output_type": "stream",
     "text": [
      "node_map: [[0, 0, 0, 0, 0, 0, 0], [0, 0, 0, 0, 0, 0, 0], [0, 0, 0, 0, 0, 0, 0], [0, 0, 0, 0, 0, 0, 0], [0, 0, 0, 0, 0, 0, 0], [0, 0, 0, 0, 0, 0, 0], [0, 0, 0, 0, 0, 0, 0]]\n",
      "node_map: [[0, 10, 0, 0, 0, 9, 15], [10, 0, 0, 0, 0, 2, 2], [0, 0, 0, 0, 1, 0, 10], [0, 0, 0, 0, 7, 0, 0], [0, 0, 1, 7, 0, 0, 12], [9, 2, 0, 0, 0, 0, 3], [15, 2, 10, 0, 12, 3, 0]]\n",
      "from_node: 0\n",
      "to_node: 4\n",
      "[Dijkstra_Path][__init__]  node_map: [[0, 10, 0, 0, 0, 9, 15], [10, 0, 0, 0, 0, 2, 2], [0, 0, 0, 0, 1, 0, 10], [0, 0, 0, 0, 7, 0, 0], [0, 0, 1, 7, 0, 0, 12], [9, 2, 0, 0, 0, 0, 3], [15, 2, 10, 0, 12, 3, 0]]\n",
      "[Dijkstra_Path][_init_dijkstra]  used_node_list: [0]\n",
      "[Dijkstra_Path][_init_dijkstra]  collected_node_dict: {0: [9999, -1], 1: [9999, -1], 2: [9999, -1], 3: [9999, -1], 4: [9999, -1], 5: [9999, -1], 6: [9999, -1]}\n",
      "[Dijkstra_Path][_init_dijkstra]  collected_node_dict: {0: [0, -1], 1: [10, 0], 2: [9999, -1], 3: [9999, -1], 4: [9999, -1], 5: [9, 0], 6: [15, 0]}\n",
      "[(0, 0), (5, 9), (6, 12), (2, 22), (4, 23)]\n"
     ]
    }
   ],
   "source": [
    "if __name__ == \"__main__\":  \n",
    "    node = ['A', 'B', 'C', 'D', 'E', 'F', 'G']  \n",
    "    node_list = [('A', 'F', 9), ('A', 'B', 10), ('A', 'G', 15), ('B', 'F', 2),  \n",
    "                 ('G', 'F', 3), ('G', 'E', 12), ('G', 'C', 10), ('C', 'E', 1),  \n",
    "                 ('E', 'D', 7) , ('B', 'G', 2)]  # , ('B', 'G', 2)  \n",
    "    \n",
    "    ## init node_map to 0  \n",
    "    node_map = [[0 for val in range(len(node))] for val in range(len(node))]  \n",
    "    print(f'node_map: {node_map}')\n",
    "    ## set node_map  \n",
    "    set_node_map(node_map, node, node_list)  \n",
    "    print(f'node_map: {node_map}')\n",
    "    \n",
    "    ## select one node to obj node, e.g. A --> D(node[0] --> node[3])  \n",
    "    from_node = node.index('A')  \n",
    "    print(f'from_node: {from_node}')\n",
    "    to_node = node.index('E')  \n",
    "    print(f'to_node: {to_node}')\n",
    "    dijkstrapath = Dijkstra_Path(node_map)  \n",
    "    path = dijkstrapath(from_node, to_node)  \n",
    "    print(path) "
   ]
  },
  {
   "cell_type": "code",
   "execution_count": null,
   "id": "9534ffe3",
   "metadata": {},
   "outputs": [],
   "source": []
  },
  {
   "cell_type": "code",
   "execution_count": null,
   "id": "c71c8be9",
   "metadata": {},
   "outputs": [],
   "source": []
  },
  {
   "cell_type": "code",
   "execution_count": null,
   "id": "1ce4fb68",
   "metadata": {},
   "outputs": [],
   "source": []
  },
  {
   "cell_type": "code",
   "execution_count": 142,
   "id": "08a4f992",
   "metadata": {
    "ExecuteTime": {
     "end_time": "2021-07-14T01:47:31.750525Z",
     "start_time": "2021-07-14T01:47:31.738642Z"
    }
   },
   "outputs": [],
   "source": [
    "import numpy as np\n",
    "%matplotlib inline\n",
    "import cv2\n",
    "import matplotlib.pyplot as plt"
   ]
  },
  {
   "cell_type": "code",
   "execution_count": 143,
   "id": "4455dd86",
   "metadata": {
    "ExecuteTime": {
     "end_time": "2021-07-14T01:47:32.148204Z",
     "start_time": "2021-07-14T01:47:32.136551Z"
    }
   },
   "outputs": [],
   "source": [
    "class Node(object):\n",
    "    def __init__(self, x=-1, y=-1):\n",
    "        # [dist, x, y]\n",
    "        # self.up = [x, y-1] if y-1 >= 0 else []\n",
    "        # self.left = [x-1, y] if x-1 < 0 else []\n",
    "        # self.bottom = [x, y+1] if y+1 < h else []\n",
    "        # self.right = [x+1, y] if x+1 < w else []\n",
    "        self.x = x\n",
    "        self.y = y\n",
    "        \n",
    "        self.dist = 0\n",
    "        self.pre_nodes = []\n",
    "        self.parent_node = None"
   ]
  },
  {
   "cell_type": "code",
   "execution_count": 144,
   "id": "1b202b7c",
   "metadata": {
    "ExecuteTime": {
     "end_time": "2021-07-14T01:47:32.854314Z",
     "start_time": "2021-07-14T01:47:32.820871Z"
    }
   },
   "outputs": [],
   "source": [
    "class DijkSta(object):\n",
    "    def __init__(self, data_map, inf=999):\n",
    "        self.data_map = data_map\n",
    "        self.mask_map = np.zeros_like(data_map)\n",
    "        self.mask_sum = self.mask_map.shape[0] * self.mask_map.shape[1]\n",
    "        self.inf = inf\n",
    "        self.src = None\n",
    "        self.dst = None\n",
    "        self.w = self.data_map.shape[0]\n",
    "        self.h = self.data_map.shape[1]\n",
    "        print(f'[DijkSta][__init__]  mask_map: {self.mask_map}  w: {self.w}  h: {self.h}')\n",
    "    \n",
    "    def __call__(self, src, dst):\n",
    "        if isinstance(src, (list, tuple)):\n",
    "            self.src = Node(src[0], src[1])\n",
    "        else:\n",
    "            self.src = src    \n",
    "        if isinstance(dst, (list, tuple)):\n",
    "            self.dst = Node(dst[0], dst[1])\n",
    "        else:\n",
    "            self.dst = dst\n",
    "        return self.search(self.src, self.dst)\n",
    "    \n",
    "    def get_neighbers(self, node):\n",
    "        neighbers = []\n",
    "        up = [node.x, node.y-1] if node.y-1 >= 0 else []\n",
    "        if len(up) > 0 and self.mask_map[up[0], up[1]] == 0:\n",
    "            neighbers.append(Node(up[0], up[1]))\n",
    "        left = [node.x-1, node.y] if node.x-1 >= 0 else []\n",
    "        print(f'[DijkSta][get_neighbers]  left: {left}')\n",
    "        if len(left) > 0 and self.mask_map[left[0], left[1]] == 0:\n",
    "            neighbers.append(Node(left[0], left[1]))\n",
    "        bottom = [node.x, node.y+1] if node.y+1 < self.h else []\n",
    "        if len(bottom) > 0 and self.mask_map[bottom[0], bottom[1]] == 0:\n",
    "            neighbers.append(Node(bottom[0], bottom[1]))\n",
    "        right = [node.x+1, node.y] if node.x+1 < self.w else []\n",
    "        if len(right) > 0 and self.mask_map[right[0], right[1]] == 0:\n",
    "            neighbers.append(Node(right[0], right[1]))\n",
    "\n",
    "        return neighbers\n",
    "    \n",
    "    def step(self, cur_node, neighbers):\n",
    "        to_node = None\n",
    "        to_flag = False\n",
    "        for neighber in neighbers:\n",
    "            ## 比较当前节点是否畅通\n",
    "            val = self.data_map[neighber.x, neighber.y]\n",
    "            if val == 0:  # (val < self.inf) and (val != 1):\n",
    "                ## 节点畅通\n",
    "                cur_node.pre_nodes.append(neighber)\n",
    "                ## 判断是否到达目的地\n",
    "                if neighber.x == self.dst.x and neighber.y == self.dst.y:\n",
    "                    print(f'[DijkSta][step]  arrive destination neighber: {neighber.x} {neighber.y}')\n",
    "                    to_flag = True\n",
    "                    cur_node.pre_nodes = [neighber]\n",
    "                    neighber.parent_node = cur_node\n",
    "                    break\n",
    "            else:\n",
    "                ## mask\n",
    "                self.mask_map[neighber.x, neighber.y] = 1\n",
    "        if len(cur_node.pre_nodes) > 0:\n",
    "            cur_node.dist += 1\n",
    "            ## mask current node\n",
    "            self.mask_map[cur_node.x, cur_node.y] = 1\n",
    "        print(f'mask_map: {self.mask_map}')\n",
    "        if to_flag:\n",
    "            ## 递归条件\n",
    "            return cur_node.pre_nodes[0]\n",
    "        else:\n",
    "            if self.mask_map.sum() == self.mask_sum:\n",
    "                ## 便利了所有节点\n",
    "                print(f'all node masked!!!')\n",
    "                return None\n",
    "            if len(cur_node.pre_nodes) == 0:\n",
    "                ## 没有邻居节点\n",
    "                print(f'no neighbers!!!')\n",
    "                return None\n",
    "            ## rand recursive\n",
    "            randint = np.random.randint(0, len(cur_node.pre_nodes))\n",
    "            new_cur_node = cur_node.pre_nodes[randint]\n",
    "            new_cur_node.parent_node = cur_node\n",
    "            new_neighbers = self.get_neighbers(new_cur_node)\n",
    "            to_node = self.step(new_cur_node, new_neighbers)\n",
    "            \n",
    "            #for new_cur_node in cur_node.pre_nodes:\n",
    "            #    new_cur_node.parent_node = cur_node\n",
    "            #    new_neighbers = self.get_neighbers(new_cur_node)\n",
    "            #    to_node = self.step(new_cur_node, new_neighbers)\n",
    "        \n",
    "        #print(f'[DijkSta][step]  return to_node: {to_node.x} {to_node.y}')\n",
    "        return to_node\n",
    "    \n",
    "    def search(self, src, dst):\n",
    "        cur_node = self.src\n",
    "        self.mask_map[cur_node.x, cur_node.y] = 1\n",
    "        neighbers = self.get_neighbers(cur_node)\n",
    "        to_node = self.step(cur_node, neighbers)\n",
    "        print(f'to_node: {to_node}')\n",
    "        return to_node\n",
    "    \n",
    "    def show_mask_map(self):\n",
    "        rend_map = np.stack([self.mask_map, self.mask_map, self.mask_map], axis=2) * 255\n",
    "        print(f'rend_map: {rend_map.shape}')\n",
    "        plt.imshow(rend_map)"
   ]
  },
  {
   "cell_type": "code",
   "execution_count": 151,
   "id": "7986fc19",
   "metadata": {
    "ExecuteTime": {
     "end_time": "2021-07-19T01:46:34.698237Z",
     "start_time": "2021-07-19T01:46:34.609786Z"
    }
   },
   "outputs": [
    {
     "name": "stderr",
     "output_type": "stream",
     "text": [
      "Clipping input data to the valid range for imshow with RGB data ([0..1] for floats or [0..255] for integers).\n"
     ]
    },
    {
     "name": "stdout",
     "output_type": "stream",
     "text": [
      "[DijkSta][__init__]  mask_map: [[0 0 0 0 0]\n",
      " [0 0 0 0 0]\n",
      " [0 0 0 0 0]\n",
      " [0 0 0 0 0]\n",
      " [0 0 0 0 0]]  w: 5  h: 5\n",
      "[DijkSta][get_neighbers]  left: []\n",
      "mask_map: [[1 1 0 0 0]\n",
      " [0 0 0 0 0]\n",
      " [0 0 0 0 0]\n",
      " [0 0 0 0 0]\n",
      " [0 0 0 0 0]]\n",
      "[DijkSta][get_neighbers]  left: [0, 0]\n",
      "mask_map: [[1 1 0 0 0]\n",
      " [1 1 0 0 0]\n",
      " [0 0 0 0 0]\n",
      " [0 0 0 0 0]\n",
      " [0 0 0 0 0]]\n",
      "[DijkSta][get_neighbers]  left: [1, 0]\n",
      "mask_map: [[1 1 0 0 0]\n",
      " [1 1 0 0 0]\n",
      " [1 1 0 0 0]\n",
      " [0 0 0 0 0]\n",
      " [0 0 0 0 0]]\n",
      "[DijkSta][get_neighbers]  left: [2, 0]\n",
      "mask_map: [[1 1 0 0 0]\n",
      " [1 1 0 0 0]\n",
      " [1 1 0 0 0]\n",
      " [1 0 0 0 0]\n",
      " [0 0 0 0 0]]\n",
      "[DijkSta][get_neighbers]  left: [2, 1]\n",
      "mask_map: [[1 1 0 0 0]\n",
      " [1 1 0 0 0]\n",
      " [1 1 0 0 0]\n",
      " [1 1 0 0 0]\n",
      " [0 0 0 0 0]]\n",
      "[DijkSta][get_neighbers]  left: [2, 2]\n",
      "mask_map: [[1 1 0 0 0]\n",
      " [1 1 0 0 0]\n",
      " [1 1 0 0 0]\n",
      " [1 1 1 1 0]\n",
      " [0 0 0 0 0]]\n",
      "[DijkSta][get_neighbers]  left: [1, 2]\n",
      "mask_map: [[1 1 0 0 0]\n",
      " [1 1 0 0 0]\n",
      " [1 1 1 1 0]\n",
      " [1 1 1 1 0]\n",
      " [0 0 0 0 0]]\n",
      "[DijkSta][get_neighbers]  left: [0, 2]\n",
      "mask_map: [[1 1 0 0 0]\n",
      " [1 1 1 0 0]\n",
      " [1 1 1 1 0]\n",
      " [1 1 1 1 0]\n",
      " [0 0 0 0 0]]\n",
      "[DijkSta][get_neighbers]  left: []\n",
      "mask_map: [[1 1 1 0 0]\n",
      " [1 1 1 0 0]\n",
      " [1 1 1 1 0]\n",
      " [1 1 1 1 0]\n",
      " [0 0 0 0 0]]\n",
      "[DijkSta][get_neighbers]  left: []\n",
      "mask_map: [[1 1 1 1 0]\n",
      " [1 1 1 0 0]\n",
      " [1 1 1 1 0]\n",
      " [1 1 1 1 0]\n",
      " [0 0 0 0 0]]\n",
      "[DijkSta][get_neighbers]  left: []\n",
      "mask_map: [[1 1 1 1 1]\n",
      " [1 1 1 0 0]\n",
      " [1 1 1 1 0]\n",
      " [1 1 1 1 0]\n",
      " [0 0 0 0 0]]\n",
      "[DijkSta][get_neighbers]  left: [0, 4]\n",
      "mask_map: [[1 1 1 1 1]\n",
      " [1 1 1 0 1]\n",
      " [1 1 1 1 0]\n",
      " [1 1 1 1 0]\n",
      " [0 0 0 0 0]]\n",
      "[DijkSta][get_neighbers]  left: [1, 4]\n",
      "mask_map: [[1 1 1 1 1]\n",
      " [1 1 1 0 1]\n",
      " [1 1 1 1 1]\n",
      " [1 1 1 1 0]\n",
      " [0 0 0 0 0]]\n",
      "[DijkSta][get_neighbers]  left: [2, 4]\n",
      "[DijkSta][step]  arrive destination neighber: 4 4\n",
      "mask_map: [[1 1 1 1 1]\n",
      " [1 1 1 0 1]\n",
      " [1 1 1 1 1]\n",
      " [1 1 1 1 1]\n",
      " [0 0 0 0 0]]\n",
      "to_node: <__main__.Node object at 0x7f3a5869af90>\n",
      "[0]  root: (4, 4)  parent_node: <__main__.Node object at 0x7f3a581bac50>  pre_nodes: []\n",
      "[idx]  root: (4, 4)\n",
      "[idx]  root: (3, 4)\n",
      "[idx]  root: (2, 4)\n",
      "[idx]  root: (1, 4)\n",
      "[idx]  root: (0, 4)\n",
      "[idx]  root: (0, 3)\n",
      "[idx]  root: (0, 2)\n",
      "[idx]  root: (1, 2)\n",
      "[idx]  root: (2, 2)\n",
      "[idx]  root: (3, 2)\n",
      "[idx]  root: (3, 1)\n",
      "[idx]  root: (3, 0)\n",
      "[idx]  root: (2, 0)\n",
      "[idx]  root: (1, 0)\n",
      "rend_map: (5, 5, 3)\n"
     ]
    },
    {
     "data": {
      "image/png": "[encoded data removed]",
      "text/plain": [
       "<Figure size 432x288 with 1 Axes>"
      ]
     },
     "metadata": {
      "needs_background": "light"
     },
     "output_type": "display_data"
    }
   ],
   "source": [
    "# a = np.array([[0, 1, 0, 0, 0], [0, 1, 0, 0, 0], [0, 1, 0, 1, 0], [0, 0, 0, 1, 0], [0, 0, 0, 1, 0]])\n",
    "a = np.array([[0, 1, 0, 0, 0], [0, 1, 0, 0, 0], [0, 1, 0, 1, 0], [0, 0, 0, 1, 0], [0, 0, 0, 1, 0]])\n",
    "dij = DijkSta(a)\n",
    "path = dij((0, 0), (4, 4))\n",
    "root = path\n",
    "idx = 0\n",
    "print(f'[0]  root: ({root.x}, {root.y})  parent_node: {root.parent_node}  pre_nodes: {root.pre_nodes}')\n",
    "render_map = np.zeros((a.shape[0], a.shape[1], 3))\n",
    "while root is not None and root.parent_node is not None:\n",
    "    print(f'[idx]  root: ({root.x}, {root.y})')\n",
    "    render_map[root.x, root.y, :] = 255\n",
    "    idx += 1\n",
    "    root = root.parent_node\n",
    "\n",
    "render_map[a == 1, :] = (255, 0, 0)\n",
    "# render_map = cv2.resize(render_map, (128, 128))\n",
    "plt.imshow(render_map)\n",
    "\n",
    "dij.show_mask_map()"
   ]
  },
  {
   "cell_type": "code",
   "execution_count": null,
   "id": "dbe58378",
   "metadata": {},
   "outputs": [],
   "source": []
  }
 ],
 "metadata": {
  "kernelspec": {
   "display_name": "Python 3.7.10 64-bit ('object_tracking': conda)",
   "language": "python",
   "name": "python371064bitobjecttrackingconda66c6f2efc4d740808a4620e21504b8f3"
  },
  "toc": {
   "base_numbering": 1,
   "nav_menu": {},
   "number_sections": true,
   "sideBar": true,
   "skip_h1_title": false,
   "title_cell": "Table of Contents",
   "title_sidebar": "Contents",
   "toc_cell": false,
   "toc_position": {},
   "toc_section_display": true,
   "toc_window_display": false
  },
  "varInspector": {
   "cols": {
    "lenName": 16,
    "lenType": 16,
    "lenVar": 40
   },
   "kernels_config": {
    "python": {
     "delete_cmd_postfix": "",
     "delete_cmd_prefix": "del ",
     "library": "var_list.py",
     "varRefreshCmd": "print(var_dic_list())"
    },
    "r": {
     "delete_cmd_postfix": ") ",
     "delete_cmd_prefix": "rm(",
     "library": "var_list.r",
     "varRefreshCmd": "cat(var_dic_list()) "
    }
   },
   "types_to_exclude": [
    "module",
    "function",
    "builtin_function_or_method",
    "instance",
    "_Feature"
   ],
   "window_display": false
  }
 },
 "nbformat": 4,
 "nbformat_minor": 5
}
