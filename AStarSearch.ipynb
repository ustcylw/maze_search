{
 "cells": [
  {
   "cell_type": "markdown",
   "id": "10d94be4",
   "metadata": {},
   "source": [
    "# A* search methods"
   ]
  },
  {
   "cell_type": "code",
   "execution_count": 4,
   "id": "3d4edfe8",
   "metadata": {
    "ExecuteTime": {
     "end_time": "2021-07-12T11:28:34.181355Z",
     "start_time": "2021-07-12T11:28:34.175230Z"
    }
   },
   "outputs": [],
   "source": [
    "import ipy_importer"
   ]
  },
  {
   "cell_type": "code",
   "execution_count": 5,
   "id": "b4522e81",
   "metadata": {
    "ExecuteTime": {
     "end_time": "2021-07-12T11:29:00.769826Z",
     "start_time": "2021-07-12T11:29:00.767072Z"
    }
   },
   "outputs": [],
   "source": [
    "from random import randint\n",
    "from GameMap import *"
   ]
  },
  {
   "cell_type": "code",
   "execution_count": 6,
   "id": "83979bed",
   "metadata": {
    "ExecuteTime": {
     "end_time": "2021-07-12T11:29:01.373177Z",
     "start_time": "2021-07-12T11:29:01.337206Z"
    },
    "code_folding": [
     14,
     20,
     32,
     35,
     42,
     48
    ]
   },
   "outputs": [],
   "source": [
    "class SearchEntry():\n",
    "\tdef __init__(self, x, y, g_cost, f_cost=0, pre_entry=None):\n",
    "\t\tself.x = x\n",
    "\t\tself.y = y\n",
    "\t\t# cost move form start entry to this entry\n",
    "\t\tself.g_cost = g_cost\n",
    "\t\tself.f_cost = f_cost\n",
    "\t\tself.pre_entry = pre_entry\n",
    "\t\n",
    "\tdef getPos(self):\n",
    "\t\treturn (self.x, self.y)\n",
    "\n",
    "\n",
    "def AStarSearch(map, source, dest):\n",
    "\tdef getNewPosition(map, locatioin, offset):\n",
    "\t\tx,y = (location.x + offset[0], location.y + offset[1])\n",
    "\t\tif not map.isValid(x, y) or not map.isMovable(x, y):\n",
    "\t\t\treturn None\n",
    "\t\treturn (x, y)\n",
    "\t\t\n",
    "\tdef getPositions(map, location):\n",
    "\t\t# use four ways or eight ways to move\n",
    "\t\toffsets = [(-1,0), (0, -1), (1, 0), (0, 1)]\n",
    "\t\t#offsets = [(-1,0), (0, -1), (1, 0), (0, 1), (-1,-1), (1, -1), (-1, 1), (1, 1)]\n",
    "\t\tposlist = []\n",
    "\t\tfor offset in offsets:\n",
    "\t\t\tpos = getNewPosition(map, location, offset)\n",
    "\t\t\tif pos is not None:\t\t\t\n",
    "\t\t\t\tposlist.append(pos)\n",
    "\t\treturn poslist\n",
    "\t\n",
    "\t# imporve the heuristic distance more precisely in future\n",
    "\tdef calHeuristic(pos, dest):\n",
    "\t\treturn abs(dest.x - pos[0]) + abs(dest.y - pos[1])\n",
    "\t\t\n",
    "\tdef getMoveCost(location, pos):\n",
    "\t\tif location.x != pos[0] and location.y != pos[1]:\n",
    "\t\t\treturn 1.4\n",
    "\t\telse:\n",
    "\t\t\treturn 1\n",
    "\n",
    "\t# check if the position is in list\n",
    "\tdef isInList(list, pos):\n",
    "\t\tif pos in list:\n",
    "\t\t\treturn list[pos]\n",
    "\t\treturn None\n",
    "\t\n",
    "\t# add available adjacent positions\n",
    "\tdef addAdjacentPositions(map, location, dest, openlist, closedlist):\n",
    "\t\tposlist = getPositions(map, location)\n",
    "\t\tfor pos in poslist:\n",
    "\t\t\t# if position is already in closedlist, do nothing\n",
    "\t\t\tif isInList(closedlist, pos) is None:\n",
    "\t\t\t\tfindEntry = isInList(openlist, pos)\n",
    "\t\t\t\th_cost = calHeuristic(pos, dest)\n",
    "\t\t\t\tg_cost = location.g_cost + getMoveCost(location, pos)\n",
    "\t\t\t\tif findEntry is None :\n",
    "\t\t\t\t\t# if position is not in openlist, add it to openlist\n",
    "\t\t\t\t\topenlist[pos] = SearchEntry(pos[0], pos[1], g_cost, g_cost+h_cost, location)\n",
    "\t\t\t\telif findEntry.g_cost > g_cost:\n",
    "\t\t\t\t\t# if position is in openlist and cost is larger than current one,\n",
    "\t\t\t\t\t# then update cost and previous position\n",
    "\t\t\t\t\tfindEntry.g_cost = g_cost\n",
    "\t\t\t\t\tfindEntry.f_cost = g_cost + h_cost\n",
    "\t\t\t\t\tfindEntry.pre_entry = location\n",
    "\t\n",
    "\t# find a least cost position in openlist, return None if openlist is empty\n",
    "\tdef getFastPosition(openlist):\n",
    "\t\tfast = None\n",
    "\t\tfor entry in openlist.values():\n",
    "\t\t\tif fast is None:\n",
    "\t\t\t\tfast = entry\n",
    "\t\t\telif fast.f_cost > entry.f_cost:\n",
    "\t\t\t\tfast = entry\n",
    "\t\treturn fast\n",
    "\n",
    "\topenlist = {}\n",
    "\tclosedlist = {}\n",
    "\tlocation = SearchEntry(source[0], source[1], 0.0)\n",
    "\tdest = SearchEntry(dest[0], dest[1], 0.0)\n",
    "\topenlist[source] = location\n",
    "\twhile True:\n",
    "\t\tlocation = getFastPosition(openlist)\n",
    "\t\tif location is None:\n",
    "\t\t\t# not found valid path\n",
    "\t\t\tprint(\"can't find valid path\")\n",
    "\t\t\tbreak;\n",
    "\t\t\n",
    "\t\tif location.x == dest.x and location.y == dest.y:\n",
    "\t\t\tbreak\n",
    "\t\t\n",
    "\t\tclosedlist[location.getPos()] = location\n",
    "\t\topenlist.pop(location.getPos())\n",
    "\t\taddAdjacentPositions(map, location, dest, openlist, closedlist)\n",
    "\t\t\n",
    "\t#mark the found path at the map\n",
    "\twhile location is not None:\n",
    "\t\tmap.setMap(location.x, location.y, MAP_ENTRY_TYPE.MAP_PATH)\n",
    "\t\tlocation = location.pre_entry\t"
   ]
  },
  {
   "cell_type": "code",
   "execution_count": 12,
   "id": "19fcc4ce",
   "metadata": {
    "ExecuteTime": {
     "end_time": "2021-07-12T12:05:45.014403Z",
     "start_time": "2021-07-12T12:05:45.006319Z"
    }
   },
   "outputs": [
    {
     "name": "stdout",
     "output_type": "stream",
     "text": [
      " 0 0 0 0 0 0 0 0 0 0\n",
      " 0 0 0 0 0 0 0 0 0 0\n",
      " 0 0 0 0 0 0 0 0 0 0\n",
      " 0 0 0 0 0 0 0 0 0 0\n",
      " 0 0 0 0 0 0 0 0 0 0\n",
      " 0 0 0 0 0 0 0 0 0 0\n",
      " 0 0 0 0 0 0 0 0 0 0\n",
      " 0 0 0 0 0 0 0 0 0 0\n",
      " 0 0 0 0 0 0 0 0 0 0\n",
      " 0 0 0 0 0 0 0 0 0 0\n",
      "source: (3, 0)\n",
      "dest: (7, 6)\n",
      " 0 0 0 X X X X X 0 0\n",
      " 0 0 0 0 0 0 0 X 0 0\n",
      " 0 0 0 0 0 0 0 X 0 0\n",
      " 0 0 0 0 0 0 0 X 0 0\n",
      " 0 0 0 0 0 0 0 X 0 0\n",
      " 0 0 0 0 0 0 0 X 0 0\n",
      " 0 0 0 0 0 0 0 X 0 0\n",
      " 0 0 0 0 0 0 0 0 0 0\n",
      " 0 0 0 0 0 0 0 0 0 0\n",
      " 0 0 0 0 0 0 0 0 0 0\n"
     ]
    }
   ],
   "source": [
    "def run():\n",
    "\tWIDTH = 10\n",
    "\tHEIGHT = 10\n",
    "\tBLOCK_NUM = 15\n",
    "\tmap = Map(WIDTH, HEIGHT)\n",
    "# \tmap.createBlock(BLOCK_NUM)\n",
    "\tmap.showMap()\n",
    "\n",
    "\tsource = map.generatePos((0,WIDTH//3),(0,HEIGHT//3))\n",
    "\tdest = map.generatePos((WIDTH//2,WIDTH-1),(HEIGHT//2,HEIGHT-1))\n",
    "\tprint(\"source:\", source)\n",
    "\tprint(\"dest:\", dest)\n",
    "\tAStarSearch(map, source, dest)\n",
    "\tmap.showMap()\n",
    "\n",
    "if __name__ == \"__main__\":\n",
    "\trun()\n"
   ]
  },
  {
   "cell_type": "code",
   "execution_count": null,
   "id": "77dadf45",
   "metadata": {},
   "outputs": [],
   "source": []
  }
 ],
 "metadata": {
  "kernelspec": {
   "display_name": "Python 3.7.10 64-bit ('object_tracking': conda)",
   "language": "python",
   "name": "python371064bitobjecttrackingconda66c6f2efc4d740808a4620e21504b8f3"
  },
  "language_info": {
   "codemirror_mode": {
    "name": "ipython",
    "version": 3
   },
   "file_extension": ".py",
   "mimetype": "text/x-python",
   "name": "python",
   "nbconvert_exporter": "python",
   "pygments_lexer": "ipython3",
   "version": "3.7.10"
  },
  "toc": {
   "base_numbering": 1,
   "nav_menu": {},
   "number_sections": true,
   "sideBar": true,
   "skip_h1_title": false,
   "title_cell": "Table of Contents",
   "title_sidebar": "Contents",
   "toc_cell": false,
   "toc_position": {},
   "toc_section_display": true,
   "toc_window_display": false
  },
  "varInspector": {
   "cols": {
    "lenName": 16,
    "lenType": 16,
    "lenVar": 40
   },
   "kernels_config": {
    "python": {
     "delete_cmd_postfix": "",
     "delete_cmd_prefix": "del ",
     "library": "var_list.py",
     "varRefreshCmd": "print(var_dic_list())"
    },
    "r": {
     "delete_cmd_postfix": ") ",
     "delete_cmd_prefix": "rm(",
     "library": "var_list.r",
     "varRefreshCmd": "cat(var_dic_list()) "
    }
   },
   "types_to_exclude": [
    "module",
    "function",
    "builtin_function_or_method",
    "instance",
    "_Feature"
   ],
   "window_display": false
  }
 },
 "nbformat": 4,
 "nbformat_minor": 5
}
